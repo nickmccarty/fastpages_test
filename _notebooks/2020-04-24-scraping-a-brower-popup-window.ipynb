{
 "cells": [
  {
   "cell_type": "code",
   "execution_count": 16,
   "metadata": {},
   "outputs": [],
   "source": [
    "import pandas as pd\n",
    "import selenium\n",
    "from selenium.webdriver import Chrome\n",
    "import time\n",
    "import numpy as np"
   ]
  },
  {
   "cell_type": "markdown",
   "metadata": {},
   "source": [
    "### Let's grab state names from our data to use in our scraping loop"
   ]
  },
  {
   "cell_type": "code",
   "execution_count": 183,
   "metadata": {},
   "outputs": [],
   "source": [
    "df = pd.read_csv('../Data/fatalities_geocoded_with_pop.csv', index_col = 0)"
   ]
  },
  {
   "cell_type": "code",
   "execution_count": 184,
   "metadata": {},
   "outputs": [],
   "source": [
    "states = df.state.unique()"
   ]
  },
  {
   "cell_type": "markdown",
   "metadata": {},
   "source": [
    "### Base URL is the interactive map on the \"action\" section of Campaign Zero's web page"
   ]
  },
  {
   "cell_type": "code",
   "execution_count": 185,
   "metadata": {},
   "outputs": [],
   "source": [
    "# URL for our selected page, which contains our interactive map of interest\n",
    "\n",
    "base_url = 'https://campaign-zero-cartogram.s3.amazonaws.com/index.html'\n",
    "\n",
    "# Get and open Chrome instance\n",
    "\n",
    "webdriver = \"chromedriver.exe\"\n",
    "\n",
    "# Set driver to fresh Chrome window\n",
    "\n",
    "driver = Chrome(webdriver)"
   ]
  },
  {
   "cell_type": "markdown",
   "metadata": {},
   "source": [
    "### Open page using URL"
   ]
  },
  {
   "cell_type": "code",
   "execution_count": 186,
   "metadata": {},
   "outputs": [],
   "source": [
    "# Open page using URL\n",
    "\n",
    "driver.get(base_url)"
   ]
  },
  {
   "cell_type": "markdown",
   "metadata": {},
   "source": [
    "### Loop through each state, click its corresponding link on the map, pull and store info about legislation passed during the 2014-2019 period"
   ]
  },
  {
   "cell_type": "code",
   "execution_count": 204,
   "metadata": {},
   "outputs": [],
   "source": [
    "# Create list to store state names, legislation details, and policy category\n",
    "\n",
    "state_names = []\n",
    "policy_category = []\n",
    "bill_num = []\n",
    "bill_desc = []\n",
    "\n",
    "# Loop through each state, click its corresponding link on the map,\n",
    "# pull and store info about legislation passed during the 2014-2019 period\n",
    "\n",
    "for state in states:\n",
    "    \n",
    "    try:\n",
    "        \n",
    "# Define current window\n",
    "        \n",
    "        window_before = driver.window_handles[0]\n",
    "        \n",
    "# Click link        \n",
    "\n",
    "        driver.find_element_by_xpath(\"//*[@id='\"+state+\"']\").click()\n",
    "    \n",
    "# Wait five seconds for pop-up window to load\n",
    "\n",
    "        time.sleep(5)\n",
    "    \n",
    "# Define pop-up window\n",
    "    \n",
    "        window_after = driver.window_handles[1]\n",
    "        \n",
    "# Switch driver to new window\n",
    "        \n",
    "        driver.switch_to.window(window_after)\n",
    "        \n",
    "        \n",
    "# Find all elements of class \"bill\"\n",
    "\n",
    "        bills = driver.find_elements_by_class_name('bill')\n",
    "    \n",
    "    \n",
    "# Loop through each bill and append relevant details to our predefined lists\n",
    "\n",
    "        for i in range(0, len(bills)):\n",
    "        \n",
    "        \n",
    "# Parsing state names, policy category, and legislation details\n",
    "\n",
    "            state_names.append(state)\n",
    "            policy_category.append(bills[i].find_elements_by_tag_name('p')[0].text.split(': ')[1])\n",
    "            bill_num.append(bills[i].find_elements_by_tag_name('p')[1].text.split(': ')[1])\n",
    "            bill_desc.append(bills[i].find_elements_by_tag_name('p')[2].text)\n",
    "            \n",
    "# Close pop-up window\n",
    "\n",
    "        driver.close()\n",
    "    \n",
    "# Switch driver back to map page\n",
    "\n",
    "        driver.switch_to.window(window_before)\n",
    "        \n",
    "    except:\n",
    "        \n",
    "        pass"
   ]
  },
  {
   "cell_type": "markdown",
   "metadata": {},
   "source": [
    "### Let's create a dataframe from what we scraped and export it as a CSV file"
   ]
  },
  {
   "cell_type": "code",
   "execution_count": 205,
   "metadata": {},
   "outputs": [],
   "source": [
    "policies = pd.DataFrame({'state' : pd.Series(state_names),\n",
    "                         'policy_category' : pd.Series(policy_category),\n",
    "                         'bill_num' : pd.Series(bill_num),\n",
    "                         'bill_desc' : pd.Series(bill_desc)})"
   ]
  },
  {
   "cell_type": "markdown",
   "metadata": {},
   "source": [
    "### Note that, just as with the map, 9 states do not have any recorded legislation"
   ]
  },
  {
   "cell_type": "code",
   "execution_count": 206,
   "metadata": {},
   "outputs": [
    {
     "data": {
      "text/plain": [
       "41"
      ]
     },
     "execution_count": 206,
     "metadata": {},
     "output_type": "execute_result"
    }
   ],
   "source": [
    "len(policies.state.unique())"
   ]
  },
  {
   "cell_type": "markdown",
   "metadata": {},
   "source": [
    "### Export file"
   ]
  },
  {
   "cell_type": "code",
   "execution_count": 208,
   "metadata": {},
   "outputs": [],
   "source": [
    "policies.to_csv('../Data/state_legislation.csv')"
   ]
  },
  {
   "cell_type": "markdown",
   "metadata": {},
   "source": [
    "# Sandbox"
   ]
  },
  {
   "cell_type": "code",
   "execution_count": 214,
   "metadata": {},
   "outputs": [],
   "source": [
    "policy_category_counts = policies.groupby(['state', 'policy_category'], as_index = False)['bill_num'].count().rename({'bill_num' : 'count'}, axis = 1)"
   ]
  },
  {
   "cell_type": "code",
   "execution_count": 217,
   "metadata": {},
   "outputs": [
    {
     "data": {
      "text/html": [
       "<div>\n",
       "<style scoped>\n",
       "    .dataframe tbody tr th:only-of-type {\n",
       "        vertical-align: middle;\n",
       "    }\n",
       "\n",
       "    .dataframe tbody tr th {\n",
       "        vertical-align: top;\n",
       "    }\n",
       "\n",
       "    .dataframe thead th {\n",
       "        text-align: right;\n",
       "    }\n",
       "</style>\n",
       "<table border=\"1\" class=\"dataframe\">\n",
       "  <thead>\n",
       "    <tr style=\"text-align: right;\">\n",
       "      <th></th>\n",
       "      <th>state</th>\n",
       "      <th>policy_category</th>\n",
       "      <th>count</th>\n",
       "    </tr>\n",
       "  </thead>\n",
       "  <tbody>\n",
       "    <tr>\n",
       "      <th>0</th>\n",
       "      <td>AK</td>\n",
       "      <td>Training</td>\n",
       "      <td>1</td>\n",
       "    </tr>\n",
       "    <tr>\n",
       "      <th>8</th>\n",
       "      <td>CA</td>\n",
       "      <td>Training</td>\n",
       "      <td>2</td>\n",
       "    </tr>\n",
       "    <tr>\n",
       "      <th>13</th>\n",
       "      <td>CO</td>\n",
       "      <td>Training</td>\n",
       "      <td>1</td>\n",
       "    </tr>\n",
       "    <tr>\n",
       "      <th>18</th>\n",
       "      <td>CT</td>\n",
       "      <td>Training</td>\n",
       "      <td>1</td>\n",
       "    </tr>\n",
       "    <tr>\n",
       "      <th>33</th>\n",
       "      <td>LA</td>\n",
       "      <td>Training</td>\n",
       "      <td>1</td>\n",
       "    </tr>\n",
       "    <tr>\n",
       "      <th>40</th>\n",
       "      <td>MD</td>\n",
       "      <td>Training</td>\n",
       "      <td>2</td>\n",
       "    </tr>\n",
       "    <tr>\n",
       "      <th>50</th>\n",
       "      <td>NJ</td>\n",
       "      <td>Training</td>\n",
       "      <td>1</td>\n",
       "    </tr>\n",
       "    <tr>\n",
       "      <th>57</th>\n",
       "      <td>OK</td>\n",
       "      <td>Training</td>\n",
       "      <td>1</td>\n",
       "    </tr>\n",
       "    <tr>\n",
       "      <th>61</th>\n",
       "      <td>PA</td>\n",
       "      <td>Training</td>\n",
       "      <td>1</td>\n",
       "    </tr>\n",
       "    <tr>\n",
       "      <th>73</th>\n",
       "      <td>UT</td>\n",
       "      <td>Training</td>\n",
       "      <td>1</td>\n",
       "    </tr>\n",
       "    <tr>\n",
       "      <th>79</th>\n",
       "      <td>WA</td>\n",
       "      <td>Training</td>\n",
       "      <td>1</td>\n",
       "    </tr>\n",
       "  </tbody>\n",
       "</table>\n",
       "</div>"
      ],
      "text/plain": [
       "   state policy_category  count\n",
       "0     AK        Training      1\n",
       "8     CA        Training      2\n",
       "13    CO        Training      1\n",
       "18    CT        Training      1\n",
       "33    LA        Training      1\n",
       "40    MD        Training      2\n",
       "50    NJ        Training      1\n",
       "57    OK        Training      1\n",
       "61    PA        Training      1\n",
       "73    UT        Training      1\n",
       "79    WA        Training      1"
      ]
     },
     "execution_count": 217,
     "metadata": {},
     "output_type": "execute_result"
    }
   ],
   "source": [
    "policy_category_counts[policy_category_counts['policy_category'] == 'Training']"
   ]
  },
  {
   "cell_type": "code",
   "execution_count": 218,
   "metadata": {},
   "outputs": [
    {
     "data": {
      "text/plain": [
       "array(['Training', 'Limit Use of Force', 'Body Cams/ Film the Police',\n",
       "       'End For-profit Policing', 'End Broken Windows Policing',\n",
       "       'Independently Investigate & Prosecute',\n",
       "       'Community Representation', 'Community Oversight',\n",
       "       'Fair Police Union Contracts', 'Demilitarization'], dtype=object)"
      ]
     },
     "execution_count": 218,
     "metadata": {},
     "output_type": "execute_result"
    }
   ],
   "source": [
    "policy_category_counts.policy_category.unique()"
   ]
  },
  {
   "cell_type": "code",
   "execution_count": null,
   "metadata": {},
   "outputs": [],
   "source": []
  }
 ],
 "metadata": {
  "kernelspec": {
   "display_name": "Python 3",
   "language": "python",
   "name": "python3"
  },
  "language_info": {
   "codemirror_mode": {
    "name": "ipython",
    "version": 3
   },
   "file_extension": ".py",
   "mimetype": "text/x-python",
   "name": "python",
   "nbconvert_exporter": "python",
   "pygments_lexer": "ipython3",
   "version": "3.7.6"
  }
 },
 "nbformat": 4,
 "nbformat_minor": 2
}
